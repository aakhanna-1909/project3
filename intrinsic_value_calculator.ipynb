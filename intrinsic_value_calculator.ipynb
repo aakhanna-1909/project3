{
 "cells": [
  {
   "cell_type": "markdown",
   "id": "1e0b0bda-6f08-423a-ac88-bc4cb163315d",
   "metadata": {},
   "source": [
    "### Import all libraries"
   ]
  },
  {
   "cell_type": "code",
   "execution_count": 31,
   "id": "16e8c607-1aac-4123-844e-91fc3a5ab766",
   "metadata": {},
   "outputs": [],
   "source": [
    "import pandas as pd\n",
    "import yfinance as yf\n",
    "import numpy as np"
   ]
  },
  {
   "cell_type": "markdown",
   "id": "42828467-e553-425b-989b-7251c6df9827",
   "metadata": {},
   "source": [
    "## STEP 1 = Discount Rate"
   ]
  },
  {
   "cell_type": "markdown",
   "id": "0f17ba11-3e86-4d7d-afd2-251ea182db65",
   "metadata": {},
   "source": [
    "#### Calculate Cost of Equity using Capital Asset Pricing Model"
   ]
  },
  {
   "cell_type": "code",
   "execution_count": 2,
   "id": "3a67f721-1009-4b06-afc2-4d9f2032d1b9",
   "metadata": {},
   "outputs": [],
   "source": [
    "def get_risk_free_rate():\n",
    "    url = \"https://finance.yahoo.com/bonds\"\n",
    "    us_bonds = pd.read_html(url)    \n",
    "    us_bonds_df = us_bonds[0]\n",
    "    index = [\"13_week_tbill\", \"treasury_yield_5years\", \"treasury_yield_10years\", \"treasury_yield_30years\"]\n",
    "    us_bonds_df = us_bonds_df.set_index(\"Name\")\n",
    "    us_10_year_bond_yield = (us_bonds_df.loc[\"Treasury Yield 10 Years\", \"Last Price\"])/100\n",
    "    return us_10_year_bond_yield"
   ]
  },
  {
   "cell_type": "code",
   "execution_count": 3,
   "id": "0e4628ea-f7d7-4abb-afbe-ab5c6b66efae",
   "metadata": {},
   "outputs": [
    {
     "data": {
      "text/plain": [
       "0.03449"
      ]
     },
     "execution_count": 3,
     "metadata": {},
     "output_type": "execute_result"
    }
   ],
   "source": [
    "get_risk_free_rate()"
   ]
  },
  {
   "cell_type": "code",
   "execution_count": 4,
   "id": "d0f681c3-69a2-4645-b42f-684787c47357",
   "metadata": {},
   "outputs": [],
   "source": [
    "# Define a function to get stock beta using Yahoo Finance library\n",
    "\n",
    "def stock_beta(ticker_value):\n",
    "    ticker_data = yf.Ticker(ticker_value)\n",
    "    ticker_beta = ticker_data.info[\"beta\"]\n",
    "    return ticker_beta"
   ]
  },
  {
   "cell_type": "code",
   "execution_count": 5,
   "id": "8be12cf4-91af-4c78-828e-57e1b715e33a",
   "metadata": {},
   "outputs": [
    {
     "data": {
      "text/plain": [
       "0.926403"
      ]
     },
     "execution_count": 5,
     "metadata": {},
     "output_type": "execute_result"
    }
   ],
   "source": [
    "stock_beta(\"MSFT\")"
   ]
  },
  {
   "cell_type": "code",
   "execution_count": 6,
   "id": "d5cf4481-76ba-4300-9903-3ae9699f5bda",
   "metadata": {},
   "outputs": [],
   "source": [
    "# Define function to calculate the Cost of Equity (we use Capital Asset Pricing Model)\n",
    "\n",
    "def cost_of_equity(beta):\n",
    "    risk_free_rate = get_risk_free_rate() # Higher T-Bill yield will result in higher stock return...  The current 10-Y US T-Bill rate is 3.87%, which is quite high because the fed keeps increasing returns to combat inflation. But to be more realistic I took a rate of 2.5%\n",
    "    expected_market_return = 0.08 # Higher expected market rate is giving higher expected stock return... I am taking a conservative value of 8%\n",
    "    expected_stock_return = risk_free_rate + (beta*(expected_market_return - risk_free_rate))\n",
    "    return expected_stock_return"
   ]
  },
  {
   "cell_type": "code",
   "execution_count": 7,
   "id": "bbde489f-0373-40ff-82cf-196c2af77cf7",
   "metadata": {},
   "outputs": [
    {
     "data": {
      "text/plain": [
       "0.07665060053"
      ]
     },
     "execution_count": 7,
     "metadata": {},
     "output_type": "execute_result"
    }
   ],
   "source": [
    "cost_of_equity(stock_beta(\"MSFT\"))"
   ]
  },
  {
   "cell_type": "markdown",
   "id": "5d4699ed-3a0a-4749-a2ea-e2aaa83d5547",
   "metadata": {},
   "source": [
    "#### Get the weights assigned to each source of capital"
   ]
  },
  {
   "cell_type": "code",
   "execution_count": 8,
   "id": "ab8da1f8-96a0-46bf-a5fc-d96e74d42180",
   "metadata": {},
   "outputs": [],
   "source": [
    "# Define function to get Total Debt value from Balance Sheet\n",
    "\n",
    "def get_total_debt(ticker_value):\n",
    "    # Set the stock ticker\n",
    "    stock_ticker = yf.Ticker(ticker_value)\n",
    "    \n",
    "    # Get the Balance Sheet data of the stock ticker in a Pandas DataFrame\n",
    "    stock_balance_sheet = stock_ticker.balance_sheet\n",
    "    \n",
    "    # Get the value of the latest 10K filling date\n",
    "    cols = stock_balance_sheet.columns\n",
    "    latest_filling_date = cols[0]\n",
    "    latest_filling_date = latest_filling_date.strftime(\"%Y-%m-%d\")\n",
    "    \n",
    "    # Get value for Total Debt\n",
    "    total_debt = stock_balance_sheet.loc[\"Total Debt\", latest_filling_date]\n",
    "    return round(total_debt)"
   ]
  },
  {
   "cell_type": "code",
   "execution_count": 40,
   "id": "6e8c2e3f-749f-4fef-a5c4-7737b727d79a",
   "metadata": {},
   "outputs": [
    {
     "data": {
      "text/plain": [
       "61270000000"
      ]
     },
     "execution_count": 40,
     "metadata": {},
     "output_type": "execute_result"
    }
   ],
   "source": [
    "get_total_debt(\"MSFT\")"
   ]
  },
  {
   "cell_type": "code",
   "execution_count": 9,
   "id": "86db3451-d872-4e48-a0b3-79d5bdcb82c3",
   "metadata": {},
   "outputs": [],
   "source": [
    "def get_market_cap(ticker_value):\n",
    "    \n",
    "    # Set the stock ticker\n",
    "    stock_ticker = yf.Ticker(ticker_value)\n",
    "    \n",
    "    # Get the Balance Sheet data of the stock ticker in a Pandas DataFrame\n",
    "    market_cap = stock_ticker.info[\"marketCap\"]\n",
    "        \n",
    "    return market_cap"
   ]
  },
  {
   "cell_type": "code",
   "execution_count": 10,
   "id": "c3aa176d-9220-4583-aa86-2dec6f2fdcd2",
   "metadata": {},
   "outputs": [
    {
     "data": {
      "text/plain": [
       "1777965596672"
      ]
     },
     "execution_count": 10,
     "metadata": {},
     "output_type": "execute_result"
    }
   ],
   "source": [
    "get_market_cap(\"MSFT\")"
   ]
  },
  {
   "cell_type": "code",
   "execution_count": 11,
   "id": "2d475bf4-5407-49a2-a782-9132a09fbad2",
   "metadata": {},
   "outputs": [],
   "source": [
    "# Define function to calculate weight of equity\n",
    "def weight_of_equity(ticker_value):\n",
    "    equity_weight = get_market_cap(ticker_value) / ( get_total_debt(ticker_value) +  get_market_cap(ticker_value))\n",
    "    return equity_weight\n",
    "\n",
    "\n",
    "# Define function to calculate weight of debt\n",
    "def weight_of_debt(ticker_value):\n",
    "    debt_weight = get_total_debt(ticker_value) / ( get_total_debt(ticker_value) +  get_market_cap(ticker_value))\n",
    "    return debt_weight"
   ]
  },
  {
   "cell_type": "code",
   "execution_count": 12,
   "id": "08f4701e-bd6e-42c6-bf3b-9dbf1b4b4430",
   "metadata": {},
   "outputs": [
    {
     "data": {
      "text/plain": [
       "0.9666872476202262"
      ]
     },
     "execution_count": 12,
     "metadata": {},
     "output_type": "execute_result"
    }
   ],
   "source": [
    "weight_of_equity(\"MSFT\")"
   ]
  },
  {
   "cell_type": "code",
   "execution_count": 14,
   "id": "0d64dd32-9082-44ad-b97c-190bce2e7e24",
   "metadata": {},
   "outputs": [
    {
     "data": {
      "text/plain": [
       "0.03331275237977388"
      ]
     },
     "execution_count": 14,
     "metadata": {},
     "output_type": "execute_result"
    }
   ],
   "source": [
    "weight_of_debt(\"MSFT\")"
   ]
  },
  {
   "cell_type": "markdown",
   "id": "3fe4f3c1-19dc-414f-8cde-c1c64de864bc",
   "metadata": {},
   "source": [
    "#### Calculate Cost of Debt"
   ]
  },
  {
   "cell_type": "code",
   "execution_count": 15,
   "id": "4749e5f8-ac6e-47ef-9b66-adc21ec1af79",
   "metadata": {},
   "outputs": [],
   "source": [
    "# Define function to calculate Cost of debt\n",
    "\n",
    "def cost_of_debt(ticker_value):\n",
    "    # Set the stock ticker\n",
    "    stock_ticker = yf.Ticker(ticker_value)\n",
    "    \n",
    "    # Get the Income Statement data of the stock ticker in a Pandas DataFrame\n",
    "    stock_income_statement = stock_ticker.income_stmt\n",
    "    \n",
    "    # Get the value of the latest 10K filling date\n",
    "    cols = stock_income_statement.columns\n",
    "    latest_filling_date = cols[0]\n",
    "    latest_filling_date = latest_filling_date.strftime(\"%Y-%m-%d\")\n",
    "    \n",
    "    # Get value for Interest expense from Income Statement\n",
    "    interest_expense = stock_income_statement.loc[\"Interest Expense Non Operating\",latest_filling_date]\n",
    "    #print(interest_expense)\n",
    "\n",
    "    # Get value of total debt from get_total_debt() function\n",
    "    total_debt = get_total_debt(ticker_value)\n",
    "\n",
    "    # Calculate Cost of Debt = (Interest Expense) / (Total Debt)\n",
    "    debt_cost = interest_expense / total_debt\n",
    "\n",
    "    return debt_cost"
   ]
  },
  {
   "cell_type": "code",
   "execution_count": 17,
   "id": "1b66e354-c0fa-4849-b4d9-8e080ea5bb0f",
   "metadata": {},
   "outputs": [
    {
     "data": {
      "text/plain": [
       "0.0336706381589685"
      ]
     },
     "execution_count": 17,
     "metadata": {},
     "output_type": "execute_result"
    }
   ],
   "source": [
    "cost_of_debt(\"MSFT\")"
   ]
  },
  {
   "cell_type": "markdown",
   "id": "a471967b-9b44-4dd8-b91e-029e400c32b3",
   "metadata": {},
   "source": [
    "#### Calculate Effective Tax Rate"
   ]
  },
  {
   "cell_type": "code",
   "execution_count": 18,
   "id": "534bfbc2-64f0-4177-b48d-6006e2c8dc8d",
   "metadata": {},
   "outputs": [],
   "source": [
    "# Define function to calculate Effective Tax Rate\n",
    "\n",
    "# Effective Tax Rate = (Income Tax Expense) / (Pre-tax Income)\n",
    " \n",
    "\n",
    "def effective_tax_rate(ticker_value):\n",
    "    # Set the stock ticker\n",
    "    stock_ticker = yf.Ticker(ticker_value)\n",
    "    \n",
    "    # Get the Income Statement data of the stock ticker in a Pandas DataFrame\n",
    "    stock_income_statement = stock_ticker.income_stmt\n",
    "    \n",
    "    # Get the value of the latest 10K filling date\n",
    "    cols = stock_income_statement.columns\n",
    "    latest_filling_date = cols[0]\n",
    "    latest_filling_date = latest_filling_date.strftime(\"%Y-%m-%d\")\n",
    "    \n",
    "    # Get value for Income Tax Expense from Income Statement\n",
    "    income_tax_expense = stock_income_statement.loc[\"Tax Provision\", latest_filling_date]\n",
    "    #print(\"The income tax expense is: \" + str(income_tax_expense))\n",
    "    #print(type(income_tax_expense))\n",
    "    #print(\"_________________________________________\")\n",
    "\n",
    "    # Get value for Pretax Income from Income Statement\n",
    "    pretax_income = stock_income_statement.loc[\"Pretax Income\", latest_filling_date]\n",
    "    #print(\"The pretax income is: \" + str(pretax_income))\n",
    "    #print(type(pretax_income))\n",
    "\n",
    "    # Calculate Effective Tax Rate = (Income Tax Expense) / (Pretax Income)\n",
    "    effective_tax_rate = income_tax_expense / pretax_income\n",
    "\n",
    "\n",
    "    return effective_tax_rate"
   ]
  },
  {
   "cell_type": "code",
   "execution_count": 41,
   "id": "9a169fbc-1c64-4bd2-9124-5ee8017abdd4",
   "metadata": {},
   "outputs": [
    {
     "data": {
      "text/plain": [
       "0.13113383343685794"
      ]
     },
     "execution_count": 41,
     "metadata": {},
     "output_type": "execute_result"
    }
   ],
   "source": [
    "effective_tax_rate(\"MSFT\")"
   ]
  },
  {
   "cell_type": "markdown",
   "id": "ec103ffc-db5e-4a6b-9c83-16894ae2ed36",
   "metadata": {},
   "source": [
    "#### Calculate WACC"
   ]
  },
  {
   "cell_type": "code",
   "execution_count": 20,
   "id": "519eb3d9-f8ee-4317-a065-2bc027e0ec2e",
   "metadata": {},
   "outputs": [],
   "source": [
    "# Define function to calculate WACC\n",
    "def wacc(ticker_value):\n",
    "    weight_equity = weight_of_equity(ticker_value)\n",
    "    cost_equity = cost_of_equity(stock_beta(ticker_value))\n",
    "    weight_debt = weight_of_debt(ticker_value)\n",
    "    cost_debt = cost_of_debt(ticker_value)\n",
    "    eff_tax_rate_minus_1 = (1 - effective_tax_rate(ticker_value))\n",
    "    discount_rate = (weight_equity * cost_equity) + (weight_debt * cost_debt * eff_tax_rate_minus_1)\n",
    "    return discount_rate"
   ]
  },
  {
   "cell_type": "code",
   "execution_count": 22,
   "id": "c01864f6-a30a-4482-b8a0-466faa413dd3",
   "metadata": {},
   "outputs": [
    {
     "data": {
      "text/plain": [
       "0.07507173189668961"
      ]
     },
     "execution_count": 22,
     "metadata": {},
     "output_type": "execute_result"
    }
   ],
   "source": [
    "wacc(\"MSFT\")"
   ]
  },
  {
   "cell_type": "markdown",
   "id": "b0472e37-2510-4224-9585-5ee3f8b057d3",
   "metadata": {},
   "source": [
    "### STEP 2 = Project Free Cash Flows and Terminal Value"
   ]
  },
  {
   "cell_type": "markdown",
   "id": "838a5741-9ea5-4ba1-bc9b-3cb42a7d9732",
   "metadata": {},
   "source": [
    "#### Calculate the expected growth rate of the Free Cash Flows"
   ]
  },
  {
   "cell_type": "code",
   "execution_count": 23,
   "id": "92e47954-15e1-4dfc-9884-0425e3e92938",
   "metadata": {},
   "outputs": [],
   "source": [
    "# Define function to calculate Average Free Cash Flow Growth Rate\n",
    "\n",
    "def fcf_growth_rate(ticker_value):\n",
    "    \n",
    "    # Get the ticker value from the user\n",
    "    ticker = yf.Ticker(ticker_value)\n",
    "    \n",
    "    # Get the Statement of Cash Flows from Yahoo Finance\n",
    "    ticker_cash_flow_statement = ticker.cashflow\n",
    "    \n",
    "    # Get the historical Free Cash Flow values from the Cash Flow Statement\n",
    "    ticker_historical_fcf = ticker_cash_flow_statement.loc[\"Free Cash Flow\", :]\n",
    "    \n",
    "    # Get the Free Cash Flow values into a Pandas DataFrame\n",
    "    ticker_historical_fcf_df = pd.DataFrame(ticker_historical_fcf)\n",
    "    \n",
    "    # Sort the indices of the Free Cash Flow values DataFrame to see the oldest FCF value first\n",
    "    ticker_historical_fcf_df = ticker_historical_fcf_df.sort_index()\n",
    "    #display(ticker_historical_fcf_df)\n",
    "    \n",
    "    # Create a new column that contains the FCF Growth Rate (using pct_change() function)\n",
    "    ticker_historical_fcf_df[\"FCF Growth Rate\"] = ticker_historical_fcf_df.pct_change(periods=1)\n",
    "    #display(ticker_historical_fcf_df)\n",
    "    \n",
    "    # Get the minimum value for the FCF Growth Rate, which will be used to project the future Free Cash Flows. We use the minimum value for the FCF Growth Rate to get the most conservative estimate.\n",
    "    fcf_growth_rate = ticker_historical_fcf_df[\"FCF Growth Rate\"].min()\n",
    "    #print(fcf_growth_rate)\n",
    "    \n",
    "    # Return the Free Cash Flow Growth Rate\n",
    "    return fcf_growth_rate"
   ]
  },
  {
   "cell_type": "code",
   "execution_count": 24,
   "id": "d3cc1238-8644-4af5-b799-d5ea2a8efea5",
   "metadata": {},
   "outputs": [
    {
     "data": {
      "text/plain": [
       "0.1609287572614848"
      ]
     },
     "execution_count": 24,
     "metadata": {},
     "output_type": "execute_result"
    }
   ],
   "source": [
    "fcf_growth_rate(\"MSFT\")"
   ]
  },
  {
   "cell_type": "markdown",
   "id": "37918016-c1b2-45d5-9d9e-785bce8246f7",
   "metadata": {},
   "source": [
    "#### Project the Free Cash Flows and the Terminal Value"
   ]
  },
  {
   "cell_type": "code",
   "execution_count": 25,
   "id": "ab4f2b99-9316-4c81-9dba-6c3a533c57d6",
   "metadata": {},
   "outputs": [],
   "source": [
    "def projected_fcf(ticker_value):\n",
    "    \n",
    "    # Get the growth rate for the specified company ticker using fcf_growth_rate() function\n",
    "    growth_rate = fcf_growth_rate(ticker_value)\n",
    "    \n",
    "    # Hard-code the perpetual growth rate for the company (equivalent to US Economy growth rate)\n",
    "    perpetual_growth_rate = 0.02\n",
    "    \n",
    "    # Get the discount rate (WACC) for the specified company ticker using wacc() function\n",
    "    discount_rate_wacc = wacc(ticker_value)\n",
    "    \n",
    "    # Get the ticker value as function's parameter\n",
    "    ticker = yf.Ticker(ticker_value)\n",
    "\n",
    "    # Get the Statement of Cash Flows from Yahoo Finance\n",
    "    ticker_cash_flow_statement = ticker.cashflow\n",
    "    #print(msft_cash_flow_stmt.loc[\"Free Cash Flow\", :])\n",
    "\n",
    "    \n",
    "    # Get the historical Free Cash Flow values from the Cash Flow Statement\n",
    "    ticker_historical_fcf_df = pd.DataFrame(ticker_cash_flow_statement.loc[\"Free Cash Flow\", :])\n",
    "    #display(ticker_historical_fcf_df)\n",
    "    \n",
    "    # Sort the indices of the historical FCF DataFrame to see the oldest FCF value first\n",
    "    ticker_historical_fcf_df = ticker_historical_fcf_df.sort_index()\n",
    "    #display(ticker_historical_fcf_df)\n",
    "    \n",
    "    # Reset the indices of historical FCF DataFrame\n",
    "    ticker_historical_fcf_df = ticker_historical_fcf_df.reset_index()\n",
    "    \n",
    "    # Create a new DataFrame column called \"Year\"\n",
    "    ticker_historical_fcf_df['Year'] = pd.DatetimeIndex(ticker_historical_fcf_df['index']).year\n",
    "    \n",
    "    # Drop the index column from historical FCF DataFrame\n",
    "    ticker_historical_fcf_df = ticker_historical_fcf_df.drop(columns=\"index\")\n",
    "    #display(ticker_historical_fcf_df)\n",
    "    \n",
    "    # Get latest FCF value from the historical FCF DataFrame. This is our starting point for projecting FCF.\n",
    "    latest_fcf_df = pd.DataFrame(ticker_historical_fcf_df.iloc[(len(ticker_historical_fcf_df) - 1), :]).T.reset_index(drop=True)\n",
    "    #display(latest_fcf_df)\n",
    "        \n",
    "    most_recent_year = latest_fcf_df[\"Year\"][0]\n",
    "    #display(most_recent_year)\n",
    "        \n",
    "    # Project first FCF, one year into the future\n",
    "    projected_fcf_1 = latest_fcf_df.loc[(len(latest_fcf_df.index)-1), \"Free Cash Flow\"] * (1+growth_rate)\n",
    "    projected_year_1 = latest_fcf_df.loc[(len(latest_fcf_df.index)-1), \"Year\"] + 1\n",
    "    latest_fcf_df.loc[len(latest_fcf_df.index)] = [projected_fcf_1, projected_year_1]\n",
    "    #display(latest_fcf_df)\n",
    "\n",
    "    # Project second FCF, two years into the future\n",
    "    projected_fcf_2 = latest_fcf_df.loc[(len(latest_fcf_df.index)-1), \"Free Cash Flow\"] * (1+growth_rate)\n",
    "    projected_year_2 = latest_fcf_df.loc[(len(latest_fcf_df.index)-1), \"Year\"] + 1\n",
    "    latest_fcf_df.loc[len(latest_fcf_df.index)] = [projected_fcf_2, projected_year_2]\n",
    "    #display(latest_fcf_df)\n",
    "    \n",
    "    # Project third FCF, three years into the future\n",
    "    projected_fcf_3 = latest_fcf_df.loc[(len(latest_fcf_df.index)-1), \"Free Cash Flow\"] * (1+growth_rate)\n",
    "    projected_year_3 = latest_fcf_df.loc[(len(latest_fcf_df.index)-1), \"Year\"] + 1\n",
    "    latest_fcf_df.loc[len(latest_fcf_df.index)] = [projected_fcf_3, projected_year_3]\n",
    "    #display(latest_fcf_df)\n",
    "    \n",
    "    # Project fourth FCF, four years into the future\n",
    "    projected_fcf_4 = latest_fcf_df.loc[(len(latest_fcf_df.index)-1), \"Free Cash Flow\"] * (1+growth_rate)\n",
    "    projected_year_4 = latest_fcf_df.loc[(len(latest_fcf_df.index)-1), \"Year\"] + 1\n",
    "    latest_fcf_df.loc[len(latest_fcf_df.index)] = [projected_fcf_4, projected_year_4]\n",
    "\n",
    "                        \n",
    "                        \n",
    "    #display(latest_fcf_df)\n",
    "    \n",
    "    # Project fifth FCF, five years into the future\n",
    "    projected_fcf_5 = latest_fcf_df.loc[(len(latest_fcf_df.index)-1), \"Free Cash Flow\"] * (1+growth_rate)\n",
    "    projected_year_5 = latest_fcf_df.loc[(len(latest_fcf_df.index)-1), \"Year\"] + 1\n",
    "    latest_fcf_df.loc[len(latest_fcf_df.index)] = [projected_fcf_5, projected_year_5]\n",
    "    #print(latest_fcf_df)\n",
    "    \n",
    "    \n",
    "    # Calculate the terminal value\n",
    "    \n",
    "    # Get the last projected FCF, five years into the future\n",
    "    last_projected_fcf = latest_fcf_df.loc[(len(latest_fcf_df)-1), \"Free Cash Flow\"]\n",
    "    #print(last_projected_fcf)\n",
    "    \n",
    "    # Get the last projected Year, five years into the future\n",
    "    last_projected_year = latest_fcf_df.loc[(len(latest_fcf_df)-1), \"Year\"]\n",
    "    \n",
    "    # Calculate the terminal value. Formula: {(Last projected FCF * (1 + Perpetual growth rate)} / {(WACC discount rate) - (Perpetual growth rate)}\n",
    "    projected_terminal_value = (last_projected_fcf * (1 + perpetual_growth_rate)) / (discount_rate_wacc - perpetual_growth_rate)\n",
    "    #print(projected_terminal_value)\n",
    "    \n",
    "    # Add the terminal value to the latest_fcf_df DataFrame\n",
    "    latest_fcf_df.loc[len(latest_fcf_df.index)] = [projected_terminal_value, last_projected_year]\n",
    "    #print(latest_fcf_df)\n",
    "    \n",
    "    # Grab the calculated terminal value from the last row of the latest_fcf_df DataFrame\n",
    "    terminal_value = latest_fcf_df.loc[(len(latest_fcf_df.index) - 1), \"Free Cash Flow\"]\n",
    "    \n",
    "    # Drop the last row of the latest_fcf_df DataFrame\n",
    "    latest_fcf_df = latest_fcf_df.drop(latest_fcf_df.tail(1).index) # drop last 1 row\n",
    "    #print(latest_fcf_df)\n",
    "    \n",
    "    # Add the calculated terminal value to the final projected FCF, five years into the future\n",
    "    latest_fcf_df.loc[len(latest_fcf_df) - 1] = [(projected_fcf_5 + terminal_value), projected_year_5]\n",
    "    \n",
    "    # Drop the first row from the latest_fcf_df DataFrame\n",
    "    latest_fcf_df = latest_fcf_df.drop(latest_fcf_df.head(1).index) # drop first 1 row\n",
    "\n",
    "    # Drop the \"Year\" column from the latest_fcf_df DataFrame\n",
    "    latest_fcf_df = latest_fcf_df.drop(columns=\"Year\").reset_index(drop=False)\n",
    "    \n",
    "    return latest_fcf_df\n"
   ]
  },
  {
   "cell_type": "code",
   "execution_count": 26,
   "id": "214725a7-f13d-4fdc-bbc1-77287526ac27",
   "metadata": {},
   "outputs": [
    {
     "data": {
      "text/html": [
       "<div>\n",
       "<style scoped>\n",
       "    .dataframe tbody tr th:only-of-type {\n",
       "        vertical-align: middle;\n",
       "    }\n",
       "\n",
       "    .dataframe tbody tr th {\n",
       "        vertical-align: top;\n",
       "    }\n",
       "\n",
       "    .dataframe thead th {\n",
       "        text-align: right;\n",
       "    }\n",
       "</style>\n",
       "<table border=\"1\" class=\"dataframe\">\n",
       "  <thead>\n",
       "    <tr style=\"text-align: right;\">\n",
       "      <th></th>\n",
       "      <th>index</th>\n",
       "      <th>Free Cash Flow</th>\n",
       "    </tr>\n",
       "  </thead>\n",
       "  <tbody>\n",
       "    <tr>\n",
       "      <th>0</th>\n",
       "      <td>1</td>\n",
       "      <td>75633347606.828476</td>\n",
       "    </tr>\n",
       "    <tr>\n",
       "      <th>1</th>\n",
       "      <td>2</td>\n",
       "      <td>87804928244.721283</td>\n",
       "    </tr>\n",
       "    <tr>\n",
       "      <th>2</th>\n",
       "      <td>3</td>\n",
       "      <td>101935266228.578125</td>\n",
       "    </tr>\n",
       "    <tr>\n",
       "      <th>3</th>\n",
       "      <td>4</td>\n",
       "      <td>118339581943.861801</td>\n",
       "    </tr>\n",
       "    <tr>\n",
       "      <th>4</th>\n",
       "      <td>5</td>\n",
       "      <td>2681910669984.48291</td>\n",
       "    </tr>\n",
       "  </tbody>\n",
       "</table>\n",
       "</div>"
      ],
      "text/plain": [
       "   index       Free Cash Flow\n",
       "0      1   75633347606.828476\n",
       "1      2   87804928244.721283\n",
       "2      3  101935266228.578125\n",
       "3      4  118339581943.861801\n",
       "4      5  2681910669984.48291"
      ]
     },
     "execution_count": 26,
     "metadata": {},
     "output_type": "execute_result"
    }
   ],
   "source": [
    "projected_fcf(\"MSFT\")"
   ]
  },
  {
   "cell_type": "markdown",
   "id": "7bf4c2ae-bc96-4871-abee-e782aa6bdb3e",
   "metadata": {},
   "source": [
    "## Steps 3 & 4 - Calculate present values of FCF & Terminal Value, and add up all present values"
   ]
  },
  {
   "cell_type": "code",
   "execution_count": 27,
   "id": "00f7aacb-803a-45ce-acd6-7052d0399696",
   "metadata": {},
   "outputs": [],
   "source": [
    "# Define a function to calculate the sum of Present Values of all projected FCF\n",
    "\n",
    "def present_values(ticker_value):\n",
    "    \n",
    "    # Get the discount rate, wacc() function\n",
    "    discount_rate = wacc(ticker_value)\n",
    "    \n",
    "    # Get the Data Frame that contains the projected future cash flows, projected_fcf() function\n",
    "    projected_fcf_df = projected_fcf(ticker_value)\n",
    "    \n",
    "    # Create an empty column called \"Present Value\" in the projected FCF DataFrame\n",
    "    projected_fcf_df[\"Present Value\"] = np.nan\n",
    "\n",
    "    # Create a FOR loop that will loop through each row of projected FCF Data Frame, calculating the present value of each projected cash flow\n",
    "    for each_index, each_row in projected_fcf_df.iterrows():\n",
    "        projected_fcf_df.loc[each_index, \"Present Value\"] = (projected_fcf_df.loc[each_index, \"Free Cash Flow\"]) / ( (1 + discount_rate)**(projected_fcf_df.loc[each_index, \"index\"]) )\n",
    "    \n",
    "    \n",
    "    #print(projected_fcf_df)\n",
    "    # Add up the Present Values of all projected cash flows. This is the Enterprise Value\n",
    "    enterprise_value = projected_fcf_df[\"Present Value\"].sum()\n",
    "    \n",
    "    # Return the Enterprise Value\n",
    "    return enterprise_value\n"
   ]
  },
  {
   "cell_type": "code",
   "execution_count": 34,
   "id": "325ad4c9-f2d9-46a6-a5c2-01ca3865380e",
   "metadata": {},
   "outputs": [
    {
     "data": {
      "text/plain": [
       "2184433661147.0425"
      ]
     },
     "execution_count": 34,
     "metadata": {},
     "output_type": "execute_result"
    }
   ],
   "source": [
    "present_values(\"MSFT\")"
   ]
  },
  {
   "cell_type": "markdown",
   "id": "da031af3-770b-49c1-97c6-78f9d3cf059c",
   "metadata": {},
   "source": [
    "## Steps 5 & 6 - Calculate the Equity Value, and finally the Intrinsic Value per share"
   ]
  },
  {
   "cell_type": "code",
   "execution_count": 35,
   "id": "867aa1be-9618-4a1d-a34c-364e6f40da3a",
   "metadata": {},
   "outputs": [],
   "source": [
    "def intrinsic_value(ticker_value):\n",
    "    \n",
    "    # Get the Enterprise Value, pv() function\n",
    "    enterprise_value = present_values(ticker_value)\n",
    "    #print(enterprise_value)\n",
    "    \n",
    "    # Set the stock ticker\n",
    "    stock_ticker = yf.Ticker(ticker_value)\n",
    "    \n",
    "    # Get the Balance Sheet data of the stock ticker in a Pandas DataFrame\n",
    "    stock_balance_sheet = stock_ticker.balance_sheet\n",
    "    \n",
    "    # Get the value of the latest 10K filling date\n",
    "    cols = stock_balance_sheet.columns\n",
    "    latest_filling_date = cols[0]\n",
    "    latest_filling_date = latest_filling_date.strftime(\"%Y-%m-%d\")\n",
    "    \n",
    "    # Get value for \"Cash, Cash Equivalents, And Short Term Investments\"\n",
    "    cash = stock_balance_sheet.loc[\"Cash Cash Equivalents And Short Term Investments\", latest_filling_date]\n",
    "    #print(cash)\n",
    "    \n",
    "    # Get value for total debt, get_total_debt() function\n",
    "    total_debt = get_total_debt(ticker_value)\n",
    "    #print(total_debt)\n",
    "    \n",
    "    # Calculate Equity Value (= Enterprise Value + Cash - Total Debt)\n",
    "    equity_value = enterprise_value + cash - total_debt\n",
    "    #print(equity_value)\n",
    "    \n",
    "    # Get no. of shares outstanding\n",
    "    shares_outstanding = stock_ticker.info[\"sharesOutstanding\"]\n",
    "    #print(shares_outstanding)\n",
    "    \n",
    "    # Calculate intrinsic value per share (= equity_value / shares_outstanding)\n",
    "    intrinsic_value_per_share = equity_value / shares_outstanding\n",
    "    #print(intrinsic_value_per_share)\n",
    "    \n",
    "    return intrinsic_value_per_share"
   ]
  },
  {
   "cell_type": "code",
   "execution_count": 39,
   "id": "2679aff0-8081-4159-8dc5-2f154427e70c",
   "metadata": {},
   "outputs": [
    {
     "data": {
      "text/plain": [
       "298.86935196061637"
      ]
     },
     "execution_count": 39,
     "metadata": {},
     "output_type": "execute_result"
    }
   ],
   "source": [
    "intrinsic_value(\"MSFT\")"
   ]
  },
  {
   "cell_type": "code",
   "execution_count": null,
   "id": "3fcd965f-79c6-4852-bc63-65444a6b2aff",
   "metadata": {},
   "outputs": [],
   "source": []
  }
 ],
 "metadata": {
  "kernelspec": {
   "display_name": "Python (dev)",
   "language": "python",
   "name": "dev"
  },
  "language_info": {
   "codemirror_mode": {
    "name": "ipython",
    "version": 3
   },
   "file_extension": ".py",
   "mimetype": "text/x-python",
   "name": "python",
   "nbconvert_exporter": "python",
   "pygments_lexer": "ipython3",
   "version": "3.9.12"
  }
 },
 "nbformat": 4,
 "nbformat_minor": 5
}
